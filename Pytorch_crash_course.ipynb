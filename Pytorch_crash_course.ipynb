{
  "nbformat": 4,
  "nbformat_minor": 0,
  "metadata": {
    "colab": {
      "provenance": [],
      "gpuType": "T4",
      "authorship_tag": "ABX9TyPaMpgYFNQYjYoQwtV/dml6",
      "include_colab_link": true
    },
    "kernelspec": {
      "name": "python3",
      "display_name": "Python 3"
    },
    "language_info": {
      "name": "python"
    },
    "accelerator": "GPU"
  },
  "cells": [
    {
      "cell_type": "markdown",
      "metadata": {
        "id": "view-in-github",
        "colab_type": "text"
      },
      "source": [
        "<a href=\"https://colab.research.google.com/github/ujjwalkuikel/PyTorch-Learning/blob/main/Pytorch_crash_course.ipynb\" target=\"_parent\"><img src=\"https://colab.research.google.com/assets/colab-badge.svg\" alt=\"Open In Colab\"/></a>"
      ]
    },
    {
      "cell_type": "code",
      "execution_count": 1,
      "metadata": {
        "id": "IGLq7fJmCZ4n"
      },
      "outputs": [],
      "source": []
    },
    {
      "cell_type": "markdown",
      "source": [
        "# Tensor Basics"
      ],
      "metadata": {
        "id": "ApAKgUgJCk5k"
      }
    },
    {
      "cell_type": "markdown",
      "source": [
        "Tensor is a multidimensional matrix containing elements of single data types.\n",
        "\n",
        "Tensors are just a flexible way to store and work with numbers, no matter how many dimensions."
      ],
      "metadata": {
        "id": "OhGRSnSnEs5b"
      }
    },
    {
      "cell_type": "code",
      "source": [
        "import torch"
      ],
      "metadata": {
        "id": "znSWxbRDE68K"
      },
      "execution_count": 2,
      "outputs": []
    },
    {
      "cell_type": "markdown",
      "source": [
        "Empty tensors"
      ],
      "metadata": {
        "id": "KhrP_PbaFFd0"
      }
    },
    {
      "cell_type": "code",
      "source": [
        "x = torch.empty(1);\n",
        "print(x);\n",
        "\n",
        "x = torch.empty(2,3);\n",
        "print(x);\n",
        "\n",
        "x = torch.empty(2,3,4);\n",
        "print(x);"
      ],
      "metadata": {
        "colab": {
          "base_uri": "https://localhost:8080/"
        },
        "id": "Anm1Ifz3CokJ",
        "outputId": "61cb91a1-a39d-4931-d1bf-4b8b96b05e6d"
      },
      "execution_count": 3,
      "outputs": [
        {
          "output_type": "stream",
          "name": "stdout",
          "text": [
            "tensor([0.])\n",
            "tensor([[ 1.8900e+03,  0.0000e+00, -1.6121e+36],\n",
            "        [ 4.5789e-41,  8.9683e-44,  0.0000e+00]])\n",
            "tensor([[[ 1.8796e+03,  0.0000e+00,  1.4013e-45,  0.0000e+00],\n",
            "         [ 1.8795e+03,  0.0000e+00,  1.8795e+03,  0.0000e+00],\n",
            "         [ 3.3631e-44,  1.8469e+25,  1.3877e-38,  0.0000e+00]],\n",
            "\n",
            "        [[ 2.8026e-45,  4.9379e+33,  5.1615e-14,  6.0102e-39],\n",
            "         [ 9.8091e-45,  0.0000e+00,  9.8091e-45,  1.4013e-45],\n",
            "         [ 3.3631e-44,  1.0842e-19, -5.0455e+30,  4.5789e-41]]])\n"
          ]
        }
      ]
    },
    {
      "cell_type": "code",
      "source": [
        "x = torch.rand(5,3)\n",
        "print(x)"
      ],
      "metadata": {
        "colab": {
          "base_uri": "https://localhost:8080/"
        },
        "id": "T4vacoRVFA-Y",
        "outputId": "3db46748-8223-4daa-a9df-6768393e685f"
      },
      "execution_count": 4,
      "outputs": [
        {
          "output_type": "stream",
          "name": "stdout",
          "text": [
            "tensor([[0.6289, 0.3830, 0.5691],\n",
            "        [0.2989, 0.7825, 0.7923],\n",
            "        [0.9474, 0.9406, 0.4005],\n",
            "        [0.8833, 0.1273, 0.6154],\n",
            "        [0.7856, 0.2495, 0.8295]])\n"
          ]
        }
      ]
    },
    {
      "cell_type": "code",
      "source": [
        "torch.zeros(5,3)"
      ],
      "metadata": {
        "colab": {
          "base_uri": "https://localhost:8080/"
        },
        "id": "3g1KCafeFQcB",
        "outputId": "1a443b7c-b0d4-438d-c80e-2baae7a9cec0"
      },
      "execution_count": 5,
      "outputs": [
        {
          "output_type": "execute_result",
          "data": {
            "text/plain": [
              "tensor([[0., 0., 0.],\n",
              "        [0., 0., 0.],\n",
              "        [0., 0., 0.],\n",
              "        [0., 0., 0.],\n",
              "        [0., 0., 0.]])"
            ]
          },
          "metadata": {},
          "execution_count": 5
        }
      ]
    },
    {
      "cell_type": "code",
      "source": [
        "y = torch.ones(2,5)"
      ],
      "metadata": {
        "id": "zkvLloeyFmu4"
      },
      "execution_count": 6,
      "outputs": []
    },
    {
      "cell_type": "code",
      "source": [
        "y.size()"
      ],
      "metadata": {
        "colab": {
          "base_uri": "https://localhost:8080/"
        },
        "id": "Tpm8zqInFrPR",
        "outputId": "eb530944-e1b5-4139-87b3-56f20a3aa5ce"
      },
      "execution_count": 7,
      "outputs": [
        {
          "output_type": "execute_result",
          "data": {
            "text/plain": [
              "torch.Size([2, 5])"
            ]
          },
          "metadata": {},
          "execution_count": 7
        }
      ]
    },
    {
      "cell_type": "code",
      "source": [
        "print(x.dtype)"
      ],
      "metadata": {
        "colab": {
          "base_uri": "https://localhost:8080/"
        },
        "id": "6s29lAQ_FyTP",
        "outputId": "4077bc06-83a9-4fa8-891f-617d9f75dafe"
      },
      "execution_count": 8,
      "outputs": [
        {
          "output_type": "stream",
          "name": "stdout",
          "text": [
            "torch.float32\n"
          ]
        }
      ]
    },
    {
      "cell_type": "markdown",
      "source": [
        "Datatype can be specified like\n",
        "tensor.zeroes(2,3,dtype = torch.float16)"
      ],
      "metadata": {
        "id": "ms1TDkL0F72f"
      }
    },
    {
      "cell_type": "code",
      "source": [
        "torch.ones(2,5,5, dtype = torch.int32)"
      ],
      "metadata": {
        "colab": {
          "base_uri": "https://localhost:8080/"
        },
        "id": "-UaDjSYiF6-Y",
        "outputId": "fbdf647f-3673-485c-bc0e-053baa9b3849"
      },
      "execution_count": 9,
      "outputs": [
        {
          "output_type": "execute_result",
          "data": {
            "text/plain": [
              "tensor([[[1, 1, 1, 1, 1],\n",
              "         [1, 1, 1, 1, 1],\n",
              "         [1, 1, 1, 1, 1],\n",
              "         [1, 1, 1, 1, 1],\n",
              "         [1, 1, 1, 1, 1]],\n",
              "\n",
              "        [[1, 1, 1, 1, 1],\n",
              "         [1, 1, 1, 1, 1],\n",
              "         [1, 1, 1, 1, 1],\n",
              "         [1, 1, 1, 1, 1],\n",
              "         [1, 1, 1, 1, 1]]], dtype=torch.int32)"
            ]
          },
          "metadata": {},
          "execution_count": 9
        }
      ]
    },
    {
      "cell_type": "code",
      "source": [
        "x = torch.tensor([2,5])\n",
        "print(x, x.dtype)"
      ],
      "metadata": {
        "colab": {
          "base_uri": "https://localhost:8080/"
        },
        "id": "Y-WD5bJHF5X2",
        "outputId": "4ebf8940-b1b0-42f1-9ae5-b10a95f49c56"
      },
      "execution_count": 10,
      "outputs": [
        {
          "output_type": "stream",
          "name": "stdout",
          "text": [
            "tensor([2, 5]) torch.int64\n"
          ]
        }
      ]
    },
    {
      "cell_type": "markdown",
      "source": [
        "By default require_grad is False.\n",
        "It means it will need to calc gradient for this tensor.\n",
        "\n",
        "\n",
        "Gradients tell us:\n",
        "Which way and how much to tweak these numbers to improve the outcome.\n"
      ],
      "metadata": {
        "id": "WOvi6qevHaHp"
      }
    },
    {
      "cell_type": "code",
      "source": [
        "x = torch.tensor([2,5], requires_grad=False)\n"
      ],
      "metadata": {
        "id": "vtx06e6gGlvK"
      },
      "execution_count": 11,
      "outputs": []
    },
    {
      "cell_type": "code",
      "source": [
        "#Operations\n",
        "z = x+y\n",
        "# or\n",
        "torch.add(x,y)"
      ],
      "metadata": {
        "colab": {
          "base_uri": "https://localhost:8080/",
          "height": 211
        },
        "id": "pi_-qlKGHXEA",
        "outputId": "07fd7e24-0852-40a4-eada-4c09c96c8fc9"
      },
      "execution_count": 12,
      "outputs": [
        {
          "output_type": "error",
          "ename": "RuntimeError",
          "evalue": "The size of tensor a (2) must match the size of tensor b (5) at non-singleton dimension 1",
          "traceback": [
            "\u001b[0;31m---------------------------------------------------------------------------\u001b[0m",
            "\u001b[0;31mRuntimeError\u001b[0m                              Traceback (most recent call last)",
            "\u001b[0;32m/tmp/ipython-input-414783212.py\u001b[0m in \u001b[0;36m<cell line: 0>\u001b[0;34m()\u001b[0m\n\u001b[1;32m      1\u001b[0m \u001b[0;31m#Operations\u001b[0m\u001b[0;34m\u001b[0m\u001b[0;34m\u001b[0m\u001b[0m\n\u001b[0;32m----> 2\u001b[0;31m \u001b[0mz\u001b[0m \u001b[0;34m=\u001b[0m \u001b[0mx\u001b[0m\u001b[0;34m+\u001b[0m\u001b[0my\u001b[0m\u001b[0;34m\u001b[0m\u001b[0;34m\u001b[0m\u001b[0m\n\u001b[0m\u001b[1;32m      3\u001b[0m \u001b[0;31m# or\u001b[0m\u001b[0;34m\u001b[0m\u001b[0;34m\u001b[0m\u001b[0m\n\u001b[1;32m      4\u001b[0m \u001b[0mtorch\u001b[0m\u001b[0;34m.\u001b[0m\u001b[0madd\u001b[0m\u001b[0;34m(\u001b[0m\u001b[0mx\u001b[0m\u001b[0;34m,\u001b[0m\u001b[0my\u001b[0m\u001b[0;34m)\u001b[0m\u001b[0;34m\u001b[0m\u001b[0;34m\u001b[0m\u001b[0m\n",
            "\u001b[0;31mRuntimeError\u001b[0m: The size of tensor a (2) must match the size of tensor b (5) at non-singleton dimension 1"
          ]
        }
      ]
    },
    {
      "cell_type": "code",
      "source": [
        "#To reshape tensor \"view\"\n",
        "\n",
        "x = torch.randn(4,4)\n",
        "\n",
        "y= x.view(16)"
      ],
      "metadata": {
        "id": "PeCROHMgKr_L"
      },
      "execution_count": 13,
      "outputs": []
    },
    {
      "cell_type": "code",
      "source": [
        "abc = x.numpy()"
      ],
      "metadata": {
        "id": "uNBPSruLMwSw"
      },
      "execution_count": 14,
      "outputs": []
    },
    {
      "cell_type": "code",
      "source": [
        "print(type(abc))"
      ],
      "metadata": {
        "colab": {
          "base_uri": "https://localhost:8080/"
        },
        "id": "urwxCLe7PloO",
        "outputId": "ba51c5b4-658f-452a-a721-38193e392aac"
      },
      "execution_count": 15,
      "outputs": [
        {
          "output_type": "stream",
          "name": "stdout",
          "text": [
            "<class 'numpy.ndarray'>\n"
          ]
        }
      ]
    },
    {
      "cell_type": "code",
      "source": [
        "# numpy to tensor\n",
        "tensor = torch.from_numpy(abc)\n",
        "tensor"
      ],
      "metadata": {
        "colab": {
          "base_uri": "https://localhost:8080/"
        },
        "id": "_TS-dYALPoEO",
        "outputId": "728ccd89-d22c-44bb-bf12-b2c63cb378ea"
      },
      "execution_count": 16,
      "outputs": [
        {
          "output_type": "execute_result",
          "data": {
            "text/plain": [
              "tensor([[-0.0448,  1.9171, -0.0235,  0.3551],\n",
              "        [ 1.4915,  1.0467, -0.7103, -1.4168],\n",
              "        [-0.9307,  0.6405,  0.2344,  0.1327],\n",
              "        [-1.5435, -1.3511, -1.0510,  0.4797]])"
            ]
          },
          "metadata": {},
          "execution_count": 16
        }
      ]
    },
    {
      "cell_type": "code",
      "source": [
        "torch.tensor(abc)"
      ],
      "metadata": {
        "colab": {
          "base_uri": "https://localhost:8080/"
        },
        "id": "3j9avM6xQNHU",
        "outputId": "f615b4fd-752f-41bd-dc5c-b02d3c36a98f"
      },
      "execution_count": 17,
      "outputs": [
        {
          "output_type": "execute_result",
          "data": {
            "text/plain": [
              "tensor([[-0.0448,  1.9171, -0.0235,  0.3551],\n",
              "        [ 1.4915,  1.0467, -0.7103, -1.4168],\n",
              "        [-0.9307,  0.6405,  0.2344,  0.1327],\n",
              "        [-1.5435, -1.3511, -1.0510,  0.4797]])"
            ]
          },
          "metadata": {},
          "execution_count": 17
        }
      ]
    },
    {
      "cell_type": "markdown",
      "source": [
        "GPU, CPU"
      ],
      "metadata": {
        "id": "Qeu2Ff2FQlss"
      }
    },
    {
      "cell_type": "code",
      "source": [
        "device = torch.device(\"cuda\" if torch.cuda.is_available else \"cpu\")"
      ],
      "metadata": {
        "id": "vzeQD-33QRxx"
      },
      "execution_count": 18,
      "outputs": []
    },
    {
      "cell_type": "code",
      "source": [
        "## moving\n",
        "x = torch.randn(2,2).to(device)"
      ],
      "metadata": {
        "id": "iPgIgNhPQ3mi"
      },
      "execution_count": 19,
      "outputs": []
    },
    {
      "cell_type": "code",
      "source": [
        "## creating in GPU\n",
        "z = torch.randn(9, device = device)"
      ],
      "metadata": {
        "id": "9YNw1vNnQ9Il"
      },
      "execution_count": 20,
      "outputs": []
    },
    {
      "cell_type": "markdown",
      "source": [
        "## Autograd\n",
        "\n",
        "Autograd provides automatic differentiation for all operations on Tensors.\n",
        "\n",
        "It’s a system that automatically calculates gradients (derivatives) for tensors.\n",
        "\n",
        "**How does it work in practice?**\n",
        "\n",
        "\n",
        "1. You create tensors with requires_grad=True.\n",
        "\n",
        "2. Perform operations on them — PyTorch remembers how they were created.\n",
        "\n",
        "3. Call .backward() on a result tensor to compute gradients.\n",
        "\n",
        "4. Access .grad on the original tensors to see their gradients.\n"
      ],
      "metadata": {
        "id": "xKP_Q04nRZgs"
      }
    },
    {
      "cell_type": "markdown",
      "source": [
        "**What is torch.autograd?**\n",
        "\n",
        "-> torch.autograd is the PyTorch submodule that powers automatic differentiation — it’s short for \"automatic gradient\".\n",
        "\n",
        "\n",
        "Think of it as the engine that:\n",
        "* Records how tensors were computed (the computation graph),\n",
        "* And then computes the gradients (backward pass) when asked."
      ],
      "metadata": {
        "id": "M1B1gM3iMxPY"
      }
    },
    {
      "cell_type": "code",
      "source": [
        "x = torch.randn(3,requires_grad = True)"
      ],
      "metadata": {
        "id": "vt11uIERRWJy"
      },
      "execution_count": 22,
      "outputs": []
    },
    {
      "cell_type": "code",
      "source": [
        "y = x+2\n",
        "\n",
        "print(x)\n",
        "\n",
        "print(y)\n",
        "\n",
        "print(y.grad_fn)"
      ],
      "metadata": {
        "id": "6L_xqji6ROzC",
        "colab": {
          "base_uri": "https://localhost:8080/"
        },
        "outputId": "5a9b76f1-742f-4a4e-9b93-ea471b03aecc"
      },
      "execution_count": 23,
      "outputs": [
        {
          "output_type": "stream",
          "name": "stdout",
          "text": [
            "tensor([ 0.2269, -0.0405, -1.4444], requires_grad=True)\n",
            "tensor([2.2269, 1.9595, 0.5556], grad_fn=<AddBackward0>)\n",
            "<AddBackward0 object at 0x7fa4130926e0>\n"
          ]
        }
      ]
    },
    {
      "cell_type": "code",
      "source": [
        "z = 3*y**2\n",
        "print(z)"
      ],
      "metadata": {
        "colab": {
          "base_uri": "https://localhost:8080/"
        },
        "id": "BFnCuepJNdsa",
        "outputId": "7e26346c-6e71-4978-df05-ed209c0c9f8a"
      },
      "execution_count": 24,
      "outputs": [
        {
          "output_type": "stream",
          "name": "stdout",
          "text": [
            "tensor([14.8773, 11.5192,  0.9260], grad_fn=<MulBackward0>)\n"
          ]
        }
      ]
    },
    {
      "cell_type": "code",
      "source": [
        "z = z.mean()\n",
        "print(z)"
      ],
      "metadata": {
        "colab": {
          "base_uri": "https://localhost:8080/"
        },
        "id": "2ec_d_uUNmmT",
        "outputId": "ac6185fc-0424-490b-b89f-7ea45fb1a071"
      },
      "execution_count": 25,
      "outputs": [
        {
          "output_type": "stream",
          "name": "stdout",
          "text": [
            "tensor(9.1075, grad_fn=<MeanBackward0>)\n"
          ]
        }
      ]
    },
    {
      "cell_type": "code",
      "source": [
        "print(x.grad)"
      ],
      "metadata": {
        "colab": {
          "base_uri": "https://localhost:8080/"
        },
        "id": "47sikhnqOL4b",
        "outputId": "1fa62695-1b3e-40f4-e499-2fc559fc74a5"
      },
      "execution_count": 26,
      "outputs": [
        {
          "output_type": "stream",
          "name": "stdout",
          "text": [
            "None\n"
          ]
        }
      ]
    },
    {
      "cell_type": "code",
      "source": [
        "z.backward()\n",
        "print(x.grad)"
      ],
      "metadata": {
        "colab": {
          "base_uri": "https://localhost:8080/"
        },
        "id": "cBzWnvY6OT2G",
        "outputId": "3ad3d241-7a15-47ee-e3dc-f8f54f9aab6c"
      },
      "execution_count": 28,
      "outputs": [
        {
          "output_type": "stream",
          "name": "stdout",
          "text": [
            "tensor([4.4538, 3.9190, 1.1112])\n"
          ]
        }
      ]
    },
    {
      "cell_type": "markdown",
      "source": [
        "`.backward()` accumulates the gradient for this tensor into .grad attribute\n",
        "\n",
        "Also, be careful during optmization. `optimizer.zero_grad()`\n"
      ],
      "metadata": {
        "id": "2rko1UIbOjlW"
      }
    },
    {
      "cell_type": "markdown",
      "source": [
        "To stop a tensor from tracking history\n",
        "we can use\n",
        "\n",
        "\n",
        "*   `x.requires_grad(false)`\n",
        "* `x.detach()`\n",
        "*   wrap in `with torch.nograd():\n",
        "\n",
        "\n",
        "---\n",
        "\n"
      ],
      "metadata": {
        "id": "5wQfbb-RPHrh"
      }
    },
    {
      "cell_type": "code",
      "source": [
        "a = torch.randn(2,2)"
      ],
      "metadata": {
        "id": "njjyP6j9OVlE"
      },
      "execution_count": 29,
      "outputs": []
    },
    {
      "cell_type": "code",
      "source": [
        "b = (a*a).sum()"
      ],
      "metadata": {
        "id": "Ov3qIX3kPsPX"
      },
      "execution_count": 30,
      "outputs": []
    },
    {
      "cell_type": "code",
      "source": [
        "print(a.requires_grad)"
      ],
      "metadata": {
        "colab": {
          "base_uri": "https://localhost:8080/"
        },
        "id": "RaOS7-30PwpQ",
        "outputId": "0bbf572d-a6a4-45b7-952e-70e52338b1b4"
      },
      "execution_count": 31,
      "outputs": [
        {
          "output_type": "stream",
          "name": "stdout",
          "text": [
            "False\n"
          ]
        }
      ]
    },
    {
      "cell_type": "code",
      "source": [],
      "metadata": {
        "colab": {
          "base_uri": "https://localhost:8080/"
        },
        "id": "xDjJHfFoPy71",
        "outputId": "6578dbd5-3003-4051-9d87-ef11fb94f78d"
      },
      "execution_count": 32,
      "outputs": [
        {
          "output_type": "stream",
          "name": "stdout",
          "text": [
            "None\n"
          ]
        }
      ]
    },
    {
      "cell_type": "code",
      "source": [
        "a = torch.randn(3,3)\n",
        "a.requires_grad_(True)\n",
        "b = (a*a).sum()\n",
        "print(a.requires_grad)\n",
        "print(b.grad_fn)"
      ],
      "metadata": {
        "colab": {
          "base_uri": "https://localhost:8080/"
        },
        "id": "XhlxN8xXP1ee",
        "outputId": "8ce41eed-52b1-46fe-ae3c-8dd1b0e8e5be"
      },
      "execution_count": 52,
      "outputs": [
        {
          "output_type": "stream",
          "name": "stdout",
          "text": [
            "True\n",
            "<SumBackward0 object at 0x7fa3d0acb3d0>\n"
          ]
        }
      ]
    },
    {
      "cell_type": "code",
      "source": [
        "print(b.requires_grad)"
      ],
      "metadata": {
        "colab": {
          "base_uri": "https://localhost:8080/"
        },
        "id": "Q2rEMJl9Q-EW",
        "outputId": "7d519498-7044-4124-a303-680076f5a8b8"
      },
      "execution_count": 53,
      "outputs": [
        {
          "output_type": "stream",
          "name": "stdout",
          "text": [
            "True\n"
          ]
        }
      ]
    },
    {
      "cell_type": "code",
      "source": [
        "b = a.detach()\n",
        "print(b)"
      ],
      "metadata": {
        "colab": {
          "base_uri": "https://localhost:8080/"
        },
        "id": "6eHyOUDDRbik",
        "outputId": "fbc9f07a-a1ff-455d-c362-860fbda82e9f"
      },
      "execution_count": 54,
      "outputs": [
        {
          "output_type": "stream",
          "name": "stdout",
          "text": [
            "tensor([[ 1.4092, -0.1521, -0.1175],\n",
            "        [-0.7127,  1.4477,  1.3607],\n",
            "        [ 0.7478,  0.2619, -0.5850]])\n"
          ]
        }
      ]
    },
    {
      "cell_type": "code",
      "source": [
        "a = torch.randn(3,3)\n",
        "a.requires_grad_(True)\n",
        "b = (a*a).sum()\n",
        "print(a.requires_grad)\n",
        "print(b.grad_fn)"
      ],
      "metadata": {
        "colab": {
          "base_uri": "https://localhost:8080/"
        },
        "id": "qwkrtoFLSYeU",
        "outputId": "deb67488-424b-41ab-babc-c8c16e46feaf"
      },
      "execution_count": 55,
      "outputs": [
        {
          "output_type": "stream",
          "name": "stdout",
          "text": [
            "True\n",
            "<SumBackward0 object at 0x7fa3d0ac9de0>\n"
          ]
        }
      ]
    },
    {
      "cell_type": "code",
      "source": [
        "with torch.no_grad():\n",
        "  b = (a*a).sum()\n",
        "  print(b.grad_fn)"
      ],
      "metadata": {
        "colab": {
          "base_uri": "https://localhost:8080/"
        },
        "id": "mR98XsTBSeCG",
        "outputId": "21bba1f2-ba77-441f-b248-fa0196c10eb8"
      },
      "execution_count": 57,
      "outputs": [
        {
          "output_type": "stream",
          "name": "stdout",
          "text": [
            "None\n"
          ]
        }
      ]
    },
    {
      "cell_type": "markdown",
      "source": [
        "### LR using Autograd"
      ],
      "metadata": {
        "id": "nl5kVKPSS0-S"
      }
    },
    {
      "cell_type": "code",
      "source": [
        "x = torch.tensor([1,2,3,4,5,6],dtype = torch.float32)\n",
        "y = torch.tensor([3,6,9,12,15,18],dtype = torch.float32)"
      ],
      "metadata": {
        "id": "K1D0yD9KSmGV"
      },
      "execution_count": 72,
      "outputs": []
    },
    {
      "cell_type": "code",
      "source": [
        "w = torch.tensor(0.0,dtype=torch.float32,requires_grad=True)"
      ],
      "metadata": {
        "id": "8ahhjNKYTNJa"
      },
      "execution_count": 73,
      "outputs": []
    },
    {
      "cell_type": "code",
      "source": [
        "def forward(x):\n",
        "  return w*x"
      ],
      "metadata": {
        "id": "3YFEIUQ3Tjiu"
      },
      "execution_count": 74,
      "outputs": []
    },
    {
      "cell_type": "code",
      "source": [
        "def loss(y,y_pred):\n",
        "  return ((y_pred-y)**2).mean()"
      ],
      "metadata": {
        "id": "V2FKeSD0TuAV"
      },
      "execution_count": 75,
      "outputs": []
    },
    {
      "cell_type": "code",
      "source": [
        "x_test = 4\n",
        "print(f'prediction before training: f({x_test}) = {forward(x_test).item():.3f}')"
      ],
      "metadata": {
        "colab": {
          "base_uri": "https://localhost:8080/"
        },
        "id": "GEod--b6T8hr",
        "outputId": "f441d3be-6129-42f0-ea19-6f0a0eda5d64"
      },
      "execution_count": 76,
      "outputs": [
        {
          "output_type": "stream",
          "name": "stdout",
          "text": [
            "prediction before training: f(4) = 0.000\n"
          ]
        }
      ]
    },
    {
      "cell_type": "code",
      "source": [
        "learning_rate = 0.01\n",
        "n_epochs = 1000\n",
        "\n",
        "for epoch in range(n_epochs):\n",
        "  y_pred = forward(x)\n",
        "\n",
        "  l = loss(y,y_pred)\n",
        "\n",
        "  l.backward()\n",
        "\n",
        "  with torch.no_grad():\n",
        "    w-= learning_rate * w.grad\n",
        "\n",
        "\n",
        "  w.grad.zero_()\n",
        "\n",
        "\n",
        "print(f'prediction after training: f({x_test}) = {forward(x_test).item():.3f}')\n",
        "\n",
        "\n"
      ],
      "metadata": {
        "colab": {
          "base_uri": "https://localhost:8080/"
        },
        "id": "ABW5D_kCUuVM",
        "outputId": "ae35551b-71ba-4793-95bd-c18254f503a6"
      },
      "execution_count": 77,
      "outputs": [
        {
          "output_type": "stream",
          "name": "stdout",
          "text": [
            "prediction after training: f(4) = 12.000\n"
          ]
        }
      ]
    },
    {
      "cell_type": "code",
      "source": [
        "x_test = 9"
      ],
      "metadata": {
        "id": "KCq4NP1hW3VQ"
      },
      "execution_count": 80,
      "outputs": []
    },
    {
      "cell_type": "code",
      "source": [
        "print(f'prediction after training: f({x_test}) = {forward(x_test).item():.3f}')\n"
      ],
      "metadata": {
        "colab": {
          "base_uri": "https://localhost:8080/"
        },
        "id": "CilTKgaYUWPm",
        "outputId": "6389f854-2694-448e-d23d-fb66a7b5b0dd"
      },
      "execution_count": 81,
      "outputs": [
        {
          "output_type": "stream",
          "name": "stdout",
          "text": [
            "prediction after training: f(9) = 27.000\n"
          ]
        }
      ]
    },
    {
      "cell_type": "markdown",
      "source": [
        "### Model Loss and Optimizer"
      ],
      "metadata": {
        "id": "fx_hrJKGXE3E"
      }
    },
    {
      "cell_type": "code",
      "source": [],
      "metadata": {
        "id": "aboqXa3lXBrD"
      },
      "execution_count": null,
      "outputs": []
    },
    {
      "cell_type": "code",
      "source": [],
      "metadata": {
        "id": "IOOurbrfWu8T"
      },
      "execution_count": null,
      "outputs": []
    }
  ]
}