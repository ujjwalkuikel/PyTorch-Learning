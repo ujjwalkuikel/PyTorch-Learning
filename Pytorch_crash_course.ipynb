{
  "nbformat": 4,
  "nbformat_minor": 0,
  "metadata": {
    "colab": {
      "provenance": [],
      "gpuType": "T4",
      "authorship_tag": "ABX9TyOjIssC3AfKBhCZCeczU1Iy",
      "include_colab_link": true
    },
    "kernelspec": {
      "name": "python3",
      "display_name": "Python 3"
    },
    "language_info": {
      "name": "python"
    },
    "accelerator": "GPU"
  },
  "cells": [
    {
      "cell_type": "markdown",
      "metadata": {
        "id": "view-in-github",
        "colab_type": "text"
      },
      "source": [
        "<a href=\"https://colab.research.google.com/github/ujjwalkuikel/PyTorch-Learning/blob/main/Pytorch_crash_course.ipynb\" target=\"_parent\"><img src=\"https://colab.research.google.com/assets/colab-badge.svg\" alt=\"Open In Colab\"/></a>"
      ]
    },
    {
      "cell_type": "code",
      "execution_count": 2,
      "metadata": {
        "id": "IGLq7fJmCZ4n"
      },
      "outputs": [],
      "source": []
    },
    {
      "cell_type": "markdown",
      "source": [
        "# Tensor Basics"
      ],
      "metadata": {
        "id": "ApAKgUgJCk5k"
      }
    },
    {
      "cell_type": "markdown",
      "source": [
        "Tensor is a multidimensional matrix containing elements of single data types.\n",
        "\n",
        "Tensors are just a flexible way to store and work with numbers, no matter how many dimensions."
      ],
      "metadata": {
        "id": "OhGRSnSnEs5b"
      }
    },
    {
      "cell_type": "code",
      "source": [
        "import torch"
      ],
      "metadata": {
        "id": "znSWxbRDE68K"
      },
      "execution_count": 3,
      "outputs": []
    },
    {
      "cell_type": "markdown",
      "source": [
        "Empty tensors"
      ],
      "metadata": {
        "id": "KhrP_PbaFFd0"
      }
    },
    {
      "cell_type": "code",
      "source": [
        "x = torch.empty(1);\n",
        "print(x);\n",
        "\n",
        "x = torch.empty(2,3);\n",
        "print(x);\n",
        "\n",
        "x = torch.empty(2,3,4);\n",
        "print(x);"
      ],
      "metadata": {
        "colab": {
          "base_uri": "https://localhost:8080/"
        },
        "id": "Anm1Ifz3CokJ",
        "outputId": "67650141-c9e9-40ed-9edf-801368629d85"
      },
      "execution_count": 4,
      "outputs": [
        {
          "output_type": "stream",
          "name": "stdout",
          "text": [
            "tensor([1.1107])\n",
            "tensor([[ 9.2011e-33,  0.0000e+00,  9.1994e-33],\n",
            "        [ 0.0000e+00, -3.1962e+12,  7.7174e-34]])\n",
            "tensor([[[0.0000e+00, 1.7927e-37, 0.0000e+00, 0.0000e+00],\n",
            "         [1.7192e-37, 0.0000e+00, 0.0000e+00, 9.5008e-43],\n",
            "         [9.5709e-43, 0.0000e+00, 2.0319e-43, 0.0000e+00]],\n",
            "\n",
            "        [[9.2033e-33, 0.0000e+00, 1.1107e+00, 4.5623e-41],\n",
            "         [0.0000e+00, 0.0000e+00, 0.0000e+00, 0.0000e+00],\n",
            "         [0.0000e+00, 0.0000e+00, 0.0000e+00, 2.3262e-43]]])\n"
          ]
        }
      ]
    },
    {
      "cell_type": "code",
      "source": [
        "x = torch.rand(5,3)\n",
        "print(x)"
      ],
      "metadata": {
        "colab": {
          "base_uri": "https://localhost:8080/"
        },
        "id": "T4vacoRVFA-Y",
        "outputId": "99aeac4f-6bb8-4b9b-aedf-076a80ce514b"
      },
      "execution_count": 5,
      "outputs": [
        {
          "output_type": "stream",
          "name": "stdout",
          "text": [
            "tensor([[0.4078, 0.1731, 0.8734],\n",
            "        [0.5298, 0.7077, 0.0092],\n",
            "        [0.5149, 0.1595, 0.9871],\n",
            "        [0.5503, 0.2027, 0.0090],\n",
            "        [0.3119, 0.5442, 0.2859]])\n"
          ]
        }
      ]
    },
    {
      "cell_type": "code",
      "source": [
        "torch.zeros(5,3)"
      ],
      "metadata": {
        "colab": {
          "base_uri": "https://localhost:8080/"
        },
        "id": "3g1KCafeFQcB",
        "outputId": "18cdb1c5-1eb9-4234-84fd-be3bbb634ae5"
      },
      "execution_count": 6,
      "outputs": [
        {
          "output_type": "execute_result",
          "data": {
            "text/plain": [
              "tensor([[0., 0., 0.],\n",
              "        [0., 0., 0.],\n",
              "        [0., 0., 0.],\n",
              "        [0., 0., 0.],\n",
              "        [0., 0., 0.]])"
            ]
          },
          "metadata": {},
          "execution_count": 6
        }
      ]
    },
    {
      "cell_type": "code",
      "source": [
        "y = torch.ones(2,5)"
      ],
      "metadata": {
        "id": "zkvLloeyFmu4"
      },
      "execution_count": 7,
      "outputs": []
    },
    {
      "cell_type": "code",
      "source": [
        "y.size()"
      ],
      "metadata": {
        "colab": {
          "base_uri": "https://localhost:8080/"
        },
        "id": "Tpm8zqInFrPR",
        "outputId": "3f8c9b2a-a876-4c39-820f-2a052bbcaff4"
      },
      "execution_count": 8,
      "outputs": [
        {
          "output_type": "execute_result",
          "data": {
            "text/plain": [
              "torch.Size([2, 5])"
            ]
          },
          "metadata": {},
          "execution_count": 8
        }
      ]
    },
    {
      "cell_type": "code",
      "source": [
        "print(x.dtype)"
      ],
      "metadata": {
        "colab": {
          "base_uri": "https://localhost:8080/"
        },
        "id": "6s29lAQ_FyTP",
        "outputId": "992f3dbc-18ca-4e1c-a0d5-edf29254510f"
      },
      "execution_count": 9,
      "outputs": [
        {
          "output_type": "stream",
          "name": "stdout",
          "text": [
            "torch.float32\n"
          ]
        }
      ]
    },
    {
      "cell_type": "markdown",
      "source": [
        "Datatype can be specified like\n",
        "tensor.zeroes(2,3,dtype = torch.float16)"
      ],
      "metadata": {
        "id": "ms1TDkL0F72f"
      }
    },
    {
      "cell_type": "code",
      "source": [
        "torch.ones(2,5,5, dtype = torch.int32)"
      ],
      "metadata": {
        "colab": {
          "base_uri": "https://localhost:8080/"
        },
        "id": "-UaDjSYiF6-Y",
        "outputId": "38f259cb-51b2-4f2d-a667-eb287b6eb3b3"
      },
      "execution_count": 10,
      "outputs": [
        {
          "output_type": "execute_result",
          "data": {
            "text/plain": [
              "tensor([[[1, 1, 1, 1, 1],\n",
              "         [1, 1, 1, 1, 1],\n",
              "         [1, 1, 1, 1, 1],\n",
              "         [1, 1, 1, 1, 1],\n",
              "         [1, 1, 1, 1, 1]],\n",
              "\n",
              "        [[1, 1, 1, 1, 1],\n",
              "         [1, 1, 1, 1, 1],\n",
              "         [1, 1, 1, 1, 1],\n",
              "         [1, 1, 1, 1, 1],\n",
              "         [1, 1, 1, 1, 1]]], dtype=torch.int32)"
            ]
          },
          "metadata": {},
          "execution_count": 10
        }
      ]
    },
    {
      "cell_type": "code",
      "source": [
        "x = torch.tensor([2,5])\n",
        "print(x, x.dtype)"
      ],
      "metadata": {
        "colab": {
          "base_uri": "https://localhost:8080/"
        },
        "id": "Y-WD5bJHF5X2",
        "outputId": "0b3ca69f-5928-404f-fb75-57127792216d"
      },
      "execution_count": 11,
      "outputs": [
        {
          "output_type": "stream",
          "name": "stdout",
          "text": [
            "tensor([2, 5]) torch.int64\n"
          ]
        }
      ]
    },
    {
      "cell_type": "markdown",
      "source": [
        "By default require_grad is False.\n",
        "It means it will need to calc gradient for this tensor.\n",
        "\n",
        "\n",
        "Gradients tell us:\n",
        "Which way and how much to tweak these numbers to improve the outcome.\n"
      ],
      "metadata": {
        "id": "WOvi6qevHaHp"
      }
    },
    {
      "cell_type": "code",
      "source": [
        "x = torch.tensor([2,5], requires_grad=False)\n"
      ],
      "metadata": {
        "id": "vtx06e6gGlvK"
      },
      "execution_count": 12,
      "outputs": []
    },
    {
      "cell_type": "code",
      "source": [
        "# #Operations\n",
        "# z = x+y\n",
        "# # or\n",
        "# torch.add(x,y)"
      ],
      "metadata": {
        "colab": {
          "base_uri": "https://localhost:8080/",
          "height": 211
        },
        "id": "pi_-qlKGHXEA",
        "outputId": "3b0c0a48-6c60-44fa-d6a5-0a7ab29d7277"
      },
      "execution_count": 13,
      "outputs": [
        {
          "output_type": "error",
          "ename": "RuntimeError",
          "evalue": "The size of tensor a (2) must match the size of tensor b (5) at non-singleton dimension 1",
          "traceback": [
            "\u001b[0;31m---------------------------------------------------------------------------\u001b[0m",
            "\u001b[0;31mRuntimeError\u001b[0m                              Traceback (most recent call last)",
            "\u001b[0;32m/tmp/ipython-input-414783212.py\u001b[0m in \u001b[0;36m<cell line: 0>\u001b[0;34m()\u001b[0m\n\u001b[1;32m      1\u001b[0m \u001b[0;31m#Operations\u001b[0m\u001b[0;34m\u001b[0m\u001b[0;34m\u001b[0m\u001b[0m\n\u001b[0;32m----> 2\u001b[0;31m \u001b[0mz\u001b[0m \u001b[0;34m=\u001b[0m \u001b[0mx\u001b[0m\u001b[0;34m+\u001b[0m\u001b[0my\u001b[0m\u001b[0;34m\u001b[0m\u001b[0;34m\u001b[0m\u001b[0m\n\u001b[0m\u001b[1;32m      3\u001b[0m \u001b[0;31m# or\u001b[0m\u001b[0;34m\u001b[0m\u001b[0;34m\u001b[0m\u001b[0m\n\u001b[1;32m      4\u001b[0m \u001b[0mtorch\u001b[0m\u001b[0;34m.\u001b[0m\u001b[0madd\u001b[0m\u001b[0;34m(\u001b[0m\u001b[0mx\u001b[0m\u001b[0;34m,\u001b[0m\u001b[0my\u001b[0m\u001b[0;34m)\u001b[0m\u001b[0;34m\u001b[0m\u001b[0;34m\u001b[0m\u001b[0m\n",
            "\u001b[0;31mRuntimeError\u001b[0m: The size of tensor a (2) must match the size of tensor b (5) at non-singleton dimension 1"
          ]
        }
      ]
    },
    {
      "cell_type": "code",
      "source": [
        "#To reshape tensor \"view\"\n",
        "\n",
        "x = torch.randn(4,4)\n",
        "\n",
        "y= x.view(16)"
      ],
      "metadata": {
        "id": "PeCROHMgKr_L"
      },
      "execution_count": 14,
      "outputs": []
    },
    {
      "cell_type": "code",
      "source": [
        "abc = x.numpy()"
      ],
      "metadata": {
        "id": "uNBPSruLMwSw"
      },
      "execution_count": 15,
      "outputs": []
    },
    {
      "cell_type": "code",
      "source": [
        "print(type(abc))"
      ],
      "metadata": {
        "colab": {
          "base_uri": "https://localhost:8080/"
        },
        "id": "urwxCLe7PloO",
        "outputId": "a0121e1d-ff9f-4367-9699-258094f7446b"
      },
      "execution_count": 16,
      "outputs": [
        {
          "output_type": "stream",
          "name": "stdout",
          "text": [
            "<class 'numpy.ndarray'>\n"
          ]
        }
      ]
    },
    {
      "cell_type": "code",
      "source": [
        "# numpy to tensor\n",
        "tensor = torch.from_numpy(abc)\n",
        "tensor"
      ],
      "metadata": {
        "colab": {
          "base_uri": "https://localhost:8080/"
        },
        "id": "_TS-dYALPoEO",
        "outputId": "30b1c216-cb3b-4df3-f104-c7c0bda29e2d"
      },
      "execution_count": 17,
      "outputs": [
        {
          "output_type": "execute_result",
          "data": {
            "text/plain": [
              "tensor([[-0.4582, -0.8016,  1.4837, -1.2320],\n",
              "        [-0.5063,  0.0940,  1.0205, -0.4903],\n",
              "        [-0.6697, -0.8727,  0.8178,  2.1741],\n",
              "        [ 0.9731,  1.0271,  1.2378, -0.9583]])"
            ]
          },
          "metadata": {},
          "execution_count": 17
        }
      ]
    },
    {
      "cell_type": "code",
      "source": [
        "torch.tensor(abc)"
      ],
      "metadata": {
        "colab": {
          "base_uri": "https://localhost:8080/"
        },
        "id": "3j9avM6xQNHU",
        "outputId": "d49b872b-463d-4fdc-d3da-0bff94bc0c84"
      },
      "execution_count": 18,
      "outputs": [
        {
          "output_type": "execute_result",
          "data": {
            "text/plain": [
              "tensor([[-0.4582, -0.8016,  1.4837, -1.2320],\n",
              "        [-0.5063,  0.0940,  1.0205, -0.4903],\n",
              "        [-0.6697, -0.8727,  0.8178,  2.1741],\n",
              "        [ 0.9731,  1.0271,  1.2378, -0.9583]])"
            ]
          },
          "metadata": {},
          "execution_count": 18
        }
      ]
    },
    {
      "cell_type": "markdown",
      "source": [
        "GPU, CPU"
      ],
      "metadata": {
        "id": "Qeu2Ff2FQlss"
      }
    },
    {
      "cell_type": "code",
      "source": [
        "device = torch.device(\"cuda\" if torch.cuda.is_available else \"cpu\")"
      ],
      "metadata": {
        "id": "vzeQD-33QRxx"
      },
      "execution_count": 19,
      "outputs": []
    },
    {
      "cell_type": "code",
      "source": [
        "## moving\n",
        "x = torch.randn(2,2).to(device)"
      ],
      "metadata": {
        "id": "iPgIgNhPQ3mi"
      },
      "execution_count": 20,
      "outputs": []
    },
    {
      "cell_type": "code",
      "source": [
        "## creating in GPU\n",
        "z = torch.randn(9, device = device)"
      ],
      "metadata": {
        "id": "9YNw1vNnQ9Il"
      },
      "execution_count": 21,
      "outputs": []
    },
    {
      "cell_type": "markdown",
      "source": [
        "## Autograd\n",
        "\n",
        "Autograd provides automatic differentiation for all operations on Tensors.\n",
        "\n",
        "It’s a system that automatically calculates gradients (derivatives) for tensors.\n",
        "\n",
        "**How does it work in practice?**\n",
        "\n",
        "\n",
        "1. You create tensors with requires_grad=True.\n",
        "\n",
        "2. Perform operations on them — PyTorch remembers how they were created.\n",
        "\n",
        "3. Call .backward() on a result tensor to compute gradients.\n",
        "\n",
        "4. Access .grad on the original tensors to see their gradients.\n"
      ],
      "metadata": {
        "id": "xKP_Q04nRZgs"
      }
    },
    {
      "cell_type": "markdown",
      "source": [
        "**What is torch.autograd?**\n",
        "\n",
        "-> torch.autograd is the PyTorch submodule that powers automatic differentiation — it’s short for \"automatic gradient\".\n",
        "\n",
        "\n",
        "Think of it as the engine that:\n",
        "* Records how tensors were computed (the computation graph),\n",
        "* And then computes the gradients (backward pass) when asked."
      ],
      "metadata": {
        "id": "M1B1gM3iMxPY"
      }
    },
    {
      "cell_type": "code",
      "source": [
        "x = torch.randn(3,requires_grad = True)"
      ],
      "metadata": {
        "id": "vt11uIERRWJy"
      },
      "execution_count": 22,
      "outputs": []
    },
    {
      "cell_type": "code",
      "source": [
        "y = x+2\n",
        "\n",
        "print(x)\n",
        "\n",
        "print(y)\n",
        "\n",
        "print(y.grad_fn)"
      ],
      "metadata": {
        "id": "6L_xqji6ROzC",
        "colab": {
          "base_uri": "https://localhost:8080/"
        },
        "outputId": "fa7b29af-b9a0-462a-fccf-ca23d279f228"
      },
      "execution_count": 23,
      "outputs": [
        {
          "output_type": "stream",
          "name": "stdout",
          "text": [
            "tensor([ 1.2899,  0.6815, -1.4241], requires_grad=True)\n",
            "tensor([3.2899, 2.6815, 0.5759], grad_fn=<AddBackward0>)\n",
            "<AddBackward0 object at 0x7f2d5635d2d0>\n"
          ]
        }
      ]
    },
    {
      "cell_type": "code",
      "source": [
        "z = 3*y**2\n",
        "print(z)"
      ],
      "metadata": {
        "colab": {
          "base_uri": "https://localhost:8080/"
        },
        "id": "BFnCuepJNdsa",
        "outputId": "093c5d44-c462-46cb-87d7-59e98713e071"
      },
      "execution_count": 24,
      "outputs": [
        {
          "output_type": "stream",
          "name": "stdout",
          "text": [
            "tensor([32.4695, 21.5716,  0.9951], grad_fn=<MulBackward0>)\n"
          ]
        }
      ]
    },
    {
      "cell_type": "code",
      "source": [
        "z = z.mean()\n",
        "print(z)"
      ],
      "metadata": {
        "colab": {
          "base_uri": "https://localhost:8080/"
        },
        "id": "2ec_d_uUNmmT",
        "outputId": "6bbb7c32-9da4-4a8b-94f2-ec3bb5e499eb"
      },
      "execution_count": 25,
      "outputs": [
        {
          "output_type": "stream",
          "name": "stdout",
          "text": [
            "tensor(18.3454, grad_fn=<MeanBackward0>)\n"
          ]
        }
      ]
    },
    {
      "cell_type": "code",
      "source": [
        "print(x.grad)"
      ],
      "metadata": {
        "colab": {
          "base_uri": "https://localhost:8080/"
        },
        "id": "47sikhnqOL4b",
        "outputId": "d88b4bca-c25e-4096-d2ef-d448f2465003"
      },
      "execution_count": 26,
      "outputs": [
        {
          "output_type": "stream",
          "name": "stdout",
          "text": [
            "None\n"
          ]
        }
      ]
    },
    {
      "cell_type": "code",
      "source": [
        "z.backward()\n",
        "print(x.grad)"
      ],
      "metadata": {
        "colab": {
          "base_uri": "https://localhost:8080/"
        },
        "id": "cBzWnvY6OT2G",
        "outputId": "a802be8b-cc35-4494-d820-ed13bd90a6ef"
      },
      "execution_count": 27,
      "outputs": [
        {
          "output_type": "stream",
          "name": "stdout",
          "text": [
            "tensor([6.5797, 5.3630, 1.1518])\n"
          ]
        }
      ]
    },
    {
      "cell_type": "markdown",
      "source": [
        "`.backward()` accumulates the gradient for this tensor into .grad attribute\n",
        "\n",
        "Also, be careful during optmization. `optimizer.zero_grad()`\n"
      ],
      "metadata": {
        "id": "2rko1UIbOjlW"
      }
    },
    {
      "cell_type": "markdown",
      "source": [
        "To stop a tensor from tracking history\n",
        "we can use\n",
        "\n",
        "\n",
        "*   `x.requires_grad(false)`\n",
        "* `x.detach()`\n",
        "*   wrap in `with torch.nograd():\n",
        "\n",
        "\n",
        "---\n",
        "\n"
      ],
      "metadata": {
        "id": "5wQfbb-RPHrh"
      }
    },
    {
      "cell_type": "code",
      "source": [
        "a = torch.randn(2,2)"
      ],
      "metadata": {
        "id": "njjyP6j9OVlE"
      },
      "execution_count": 28,
      "outputs": []
    },
    {
      "cell_type": "code",
      "source": [
        "b = (a*a).sum()"
      ],
      "metadata": {
        "id": "Ov3qIX3kPsPX"
      },
      "execution_count": 29,
      "outputs": []
    },
    {
      "cell_type": "code",
      "source": [
        "print(a.requires_grad)"
      ],
      "metadata": {
        "colab": {
          "base_uri": "https://localhost:8080/"
        },
        "id": "RaOS7-30PwpQ",
        "outputId": "1fd59751-02ca-4baa-84f2-cac4c1507690"
      },
      "execution_count": 30,
      "outputs": [
        {
          "output_type": "stream",
          "name": "stdout",
          "text": [
            "False\n"
          ]
        }
      ]
    },
    {
      "cell_type": "code",
      "source": [],
      "metadata": {
        "id": "xDjJHfFoPy71"
      },
      "execution_count": 30,
      "outputs": []
    },
    {
      "cell_type": "code",
      "source": [
        "a = torch.randn(3,3)\n",
        "a.requires_grad_(True)\n",
        "b = (a*a).sum()\n",
        "print(a.requires_grad)\n",
        "print(b.grad_fn)"
      ],
      "metadata": {
        "colab": {
          "base_uri": "https://localhost:8080/"
        },
        "id": "XhlxN8xXP1ee",
        "outputId": "c2ebe80a-189f-4f0f-ba04-e5fff25088d8"
      },
      "execution_count": 31,
      "outputs": [
        {
          "output_type": "stream",
          "name": "stdout",
          "text": [
            "True\n",
            "<SumBackward0 object at 0x7f2d5635c550>\n"
          ]
        }
      ]
    },
    {
      "cell_type": "code",
      "source": [
        "print(b.requires_grad)"
      ],
      "metadata": {
        "colab": {
          "base_uri": "https://localhost:8080/"
        },
        "id": "Q2rEMJl9Q-EW",
        "outputId": "2eb699a0-edeb-42ea-be03-95f80f5966fe"
      },
      "execution_count": 32,
      "outputs": [
        {
          "output_type": "stream",
          "name": "stdout",
          "text": [
            "True\n"
          ]
        }
      ]
    },
    {
      "cell_type": "code",
      "source": [
        "b = a.detach()\n",
        "print(b)"
      ],
      "metadata": {
        "colab": {
          "base_uri": "https://localhost:8080/"
        },
        "id": "6eHyOUDDRbik",
        "outputId": "54259c26-ea6c-4df1-a3d9-15eff9493408"
      },
      "execution_count": 33,
      "outputs": [
        {
          "output_type": "stream",
          "name": "stdout",
          "text": [
            "tensor([[ 1.4779,  0.9963,  0.7555],\n",
            "        [-0.7122,  0.7583,  0.2316],\n",
            "        [-0.6261,  1.0752, -0.6383]])\n"
          ]
        }
      ]
    },
    {
      "cell_type": "code",
      "source": [
        "a = torch.randn(3,3)\n",
        "a.requires_grad_(True)\n",
        "b = (a*a).sum()\n",
        "print(a.requires_grad)\n",
        "print(b.grad_fn)"
      ],
      "metadata": {
        "colab": {
          "base_uri": "https://localhost:8080/"
        },
        "id": "qwkrtoFLSYeU",
        "outputId": "2b243bd5-ad03-4a3e-edad-570fa6c9a855"
      },
      "execution_count": 34,
      "outputs": [
        {
          "output_type": "stream",
          "name": "stdout",
          "text": [
            "True\n",
            "<SumBackward0 object at 0x7f2d5635ce50>\n"
          ]
        }
      ]
    },
    {
      "cell_type": "code",
      "source": [
        "with torch.no_grad():\n",
        "  b = (a*a).sum()\n",
        "  print(b.grad_fn)"
      ],
      "metadata": {
        "colab": {
          "base_uri": "https://localhost:8080/"
        },
        "id": "mR98XsTBSeCG",
        "outputId": "19b167f1-f15e-432e-e193-a5aaa8e12656"
      },
      "execution_count": 35,
      "outputs": [
        {
          "output_type": "stream",
          "name": "stdout",
          "text": [
            "None\n"
          ]
        }
      ]
    },
    {
      "cell_type": "markdown",
      "source": [
        "### LR using Autograd"
      ],
      "metadata": {
        "id": "nl5kVKPSS0-S"
      }
    },
    {
      "cell_type": "code",
      "source": [
        "x = torch.tensor([1,2,3,4,5,6],dtype = torch.float32)\n",
        "y = torch.tensor([3,6,9,12,15,18],dtype = torch.float32)"
      ],
      "metadata": {
        "id": "K1D0yD9KSmGV"
      },
      "execution_count": 36,
      "outputs": []
    },
    {
      "cell_type": "code",
      "source": [
        "w = torch.tensor(0.0,dtype=torch.float32,requires_grad=True)"
      ],
      "metadata": {
        "id": "8ahhjNKYTNJa"
      },
      "execution_count": 37,
      "outputs": []
    },
    {
      "cell_type": "code",
      "source": [
        "def forward(x):\n",
        "  return w*x"
      ],
      "metadata": {
        "id": "3YFEIUQ3Tjiu"
      },
      "execution_count": 38,
      "outputs": []
    },
    {
      "cell_type": "code",
      "source": [
        "def loss(y,y_pred):\n",
        "  return ((y_pred-y)**2).mean()"
      ],
      "metadata": {
        "id": "V2FKeSD0TuAV"
      },
      "execution_count": 39,
      "outputs": []
    },
    {
      "cell_type": "code",
      "source": [
        "x_test = 4\n",
        "print(f'prediction before training: f({x_test}) = {forward(x_test).item():.3f}')"
      ],
      "metadata": {
        "colab": {
          "base_uri": "https://localhost:8080/"
        },
        "id": "GEod--b6T8hr",
        "outputId": "4d1425dc-e508-4cf2-e9e8-6dd5a7a3d6f8"
      },
      "execution_count": 40,
      "outputs": [
        {
          "output_type": "stream",
          "name": "stdout",
          "text": [
            "prediction before training: f(4) = 0.000\n"
          ]
        }
      ]
    },
    {
      "cell_type": "code",
      "source": [
        "learning_rate = 0.01\n",
        "n_epochs = 1000\n",
        "\n",
        "for epoch in range(n_epochs):\n",
        "  y_pred = forward(x)\n",
        "\n",
        "  l = loss(y,y_pred)\n",
        "\n",
        "  l.backward()\n",
        "\n",
        "  with torch.no_grad():\n",
        "    w-= learning_rate * w.grad\n",
        "\n",
        "\n",
        "  w.grad.zero_()\n",
        "\n",
        "\n",
        "print(f'prediction after training: f({x_test}) = {forward(x_test).item():.3f}')\n",
        "\n",
        "\n"
      ],
      "metadata": {
        "colab": {
          "base_uri": "https://localhost:8080/"
        },
        "id": "ABW5D_kCUuVM",
        "outputId": "4001bcb0-6864-4f73-c11f-e18cc5f200fa"
      },
      "execution_count": 41,
      "outputs": [
        {
          "output_type": "stream",
          "name": "stdout",
          "text": [
            "prediction after training: f(4) = 12.000\n"
          ]
        }
      ]
    },
    {
      "cell_type": "code",
      "source": [
        "x_test = 9"
      ],
      "metadata": {
        "id": "KCq4NP1hW3VQ"
      },
      "execution_count": 42,
      "outputs": []
    },
    {
      "cell_type": "code",
      "source": [
        "print(f'prediction after training: f({x_test}) = {forward(x_test).item():.3f}')\n"
      ],
      "metadata": {
        "colab": {
          "base_uri": "https://localhost:8080/"
        },
        "id": "CilTKgaYUWPm",
        "outputId": "3cc054b6-a0b4-49c2-b311-823e369554ea"
      },
      "execution_count": 43,
      "outputs": [
        {
          "output_type": "stream",
          "name": "stdout",
          "text": [
            "prediction after training: f(9) = 27.000\n"
          ]
        }
      ]
    },
    {
      "cell_type": "markdown",
      "source": [
        "### Model Loss and Optimizer"
      ],
      "metadata": {
        "id": "fx_hrJKGXE3E"
      }
    },
    {
      "cell_type": "markdown",
      "source": [
        "Pytorch pipeline looks like\n",
        "\n",
        "\n",
        "1.   Design model (input, output, forward pass with different layers)\n",
        "2. Construct loss and optimizer\n",
        "3. Training loop:\n",
        "  * Forward = compute prediction and loss\n",
        "  * backward = compute gradients\n",
        "  * Update weights\n"
      ],
      "metadata": {
        "id": "3OarjgpByxxe"
      }
    },
    {
      "cell_type": "code",
      "source": [
        "import torch\n",
        "import torch.nn as nn"
      ],
      "metadata": {
        "id": "QZDwPOTLzbgJ"
      },
      "execution_count": 44,
      "outputs": []
    },
    {
      "cell_type": "code",
      "source": [
        "x = torch.tensor([[1],[2],[3],[4],[5],[6]],dtype = torch.float32)\n",
        "y = torch.tensor([[3],[6],[9],[12],[15],[18]],dtype = torch.float32)"
      ],
      "metadata": {
        "id": "aboqXa3lXBrD"
      },
      "execution_count": 46,
      "outputs": []
    },
    {
      "cell_type": "code",
      "source": [
        "n_samples,n_features = x.shape"
      ],
      "metadata": {
        "id": "IOOurbrfWu8T"
      },
      "execution_count": 47,
      "outputs": []
    },
    {
      "cell_type": "code",
      "source": [
        "print(f'n_samples = {n_samples},n_features = {n_features}')"
      ],
      "metadata": {
        "colab": {
          "base_uri": "https://localhost:8080/"
        },
        "id": "FQz3JLEr0CzM",
        "outputId": "f7908030-cc66-4389-808b-36524c9a86a4"
      },
      "execution_count": 48,
      "outputs": [
        {
          "output_type": "stream",
          "name": "stdout",
          "text": [
            "n_samples = 6,n_features = 1\n"
          ]
        }
      ]
    },
    {
      "cell_type": "code",
      "source": [
        "x_test = torch.tensor([5],dtype = torch.float32)"
      ],
      "metadata": {
        "id": "ftuQqleQ0M8u"
      },
      "execution_count": 49,
      "outputs": []
    },
    {
      "cell_type": "code",
      "source": [
        "class LinearRegression(nn.Module):\n",
        "  def __init__(self,input_dim,output_dim):\n",
        "    super(LinearRegression, self).__init__()\n",
        "\n",
        "    self.lin = nn.Linear(input_dim,output_dim)\n",
        "\n",
        "\n",
        "  def forward(self,x):\n",
        "    return self.lin(x)"
      ],
      "metadata": {
        "id": "XG1FmwaQ0Vg9"
      },
      "execution_count": 51,
      "outputs": []
    },
    {
      "cell_type": "code",
      "source": [
        "input_size, output_size = n_features, n_features\n",
        "\n",
        "model = LinearRegression(input_size,output_size)\n",
        "\n",
        "print(f'Prediction before training: {x_test.item()} = {model(x_test).item():.3f}')\n"
      ],
      "metadata": {
        "colab": {
          "base_uri": "https://localhost:8080/"
        },
        "id": "wuQUmXi804Kg",
        "outputId": "c42bbadb-51b1-4803-ab29-373d48d6a682"
      },
      "execution_count": 52,
      "outputs": [
        {
          "output_type": "stream",
          "name": "stdout",
          "text": [
            "Prediction before training: 5.0 = -4.356\n"
          ]
        }
      ]
    },
    {
      "cell_type": "code",
      "source": [
        "#2 Define loss and optimizer\n",
        "learning_rate = 0.01\n",
        "n_epochs = 1000\n",
        "\n",
        "loss = nn.MSELoss()\n",
        "optimizer = torch.optim.SGD(model.parameters(),lr = learning_rate)"
      ],
      "metadata": {
        "id": "WOeg6AJs1Xb0"
      },
      "execution_count": 57,
      "outputs": []
    },
    {
      "cell_type": "code",
      "source": [
        "#Training Loop\n",
        "\n",
        "for epoch in range(n_epochs):\n",
        "  # predict\n",
        "  y_predicted = model(x)\n",
        "\n",
        "  #calculate loss\n",
        "  l = loss(y,y_predicted)\n",
        "\n",
        "  #calculate gradients\n",
        "  l.backward()\n",
        "\n",
        "  #update weights\n",
        "  optimizer.step()\n",
        "\n",
        "  #empty/xero gradient\n",
        "  optimizer.zero_grad()\n",
        "\n",
        "  if(epoch+1)%10 == 0:\n",
        "    w,b = model.parameters()\n",
        "    print(f'epoch',epoch+1 , '  w : ', w[0][0].item(), ' loss: ',l.item)"
      ],
      "metadata": {
        "colab": {
          "base_uri": "https://localhost:8080/"
        },
        "id": "bMvrMX9T1sYQ",
        "outputId": "59538935-28ab-4627-85b1-7f3724adbb04"
      },
      "execution_count": 58,
      "outputs": [
        {
          "output_type": "stream",
          "name": "stdout",
          "text": [
            "epoch 10   w :  2.98881196975708  loss:  <built-in method item of Tensor object at 0x7f2d09096390>\n",
            "epoch 20   w :  2.989213705062866  loss:  <built-in method item of Tensor object at 0x7f2d090e49b0>\n",
            "epoch 30   w :  2.989600896835327  loss:  <built-in method item of Tensor object at 0x7f2d24f78c50>\n",
            "epoch 40   w :  2.9899742603302  loss:  <built-in method item of Tensor object at 0x7f2d09096390>\n",
            "epoch 50   w :  2.9903342723846436  loss:  <built-in method item of Tensor object at 0x7f2d090e4ad0>\n",
            "epoch 60   w :  2.9906811714172363  loss:  <built-in method item of Tensor object at 0x7f2d24f78c50>\n",
            "epoch 70   w :  2.991015672683716  loss:  <built-in method item of Tensor object at 0x7f2d09096390>\n",
            "epoch 80   w :  2.9913382530212402  loss:  <built-in method item of Tensor object at 0x7f2d090e49b0>\n",
            "epoch 90   w :  2.9916493892669678  loss:  <built-in method item of Tensor object at 0x7f2d24f78c50>\n",
            "epoch 100   w :  2.9919490814208984  loss:  <built-in method item of Tensor object at 0x7f2d09096390>\n",
            "epoch 110   w :  2.9922380447387695  loss:  <built-in method item of Tensor object at 0x7f2d090e4ad0>\n",
            "epoch 120   w :  2.9925167560577393  loss:  <built-in method item of Tensor object at 0x7f2d24f78c50>\n",
            "epoch 130   w :  2.9927854537963867  loss:  <built-in method item of Tensor object at 0x7f2d09096390>\n",
            "epoch 140   w :  2.993044376373291  loss:  <built-in method item of Tensor object at 0x7f2d090e49b0>\n",
            "epoch 150   w :  2.9932940006256104  loss:  <built-in method item of Tensor object at 0x7f2d24f78c50>\n",
            "epoch 160   w :  2.993534803390503  loss:  <built-in method item of Tensor object at 0x7f2d09096390>\n",
            "epoch 170   w :  2.993767023086548  loss:  <built-in method item of Tensor object at 0x7f2d090e4ad0>\n",
            "epoch 180   w :  2.993990659713745  loss:  <built-in method item of Tensor object at 0x7f2d24f78c50>\n",
            "epoch 190   w :  2.994206428527832  loss:  <built-in method item of Tensor object at 0x7f2d09096390>\n",
            "epoch 200   w :  2.9944143295288086  loss:  <built-in method item of Tensor object at 0x7f2d090e49b0>\n",
            "epoch 210   w :  2.994615077972412  loss:  <built-in method item of Tensor object at 0x7f2d24f78c50>\n",
            "epoch 220   w :  2.9948081970214844  loss:  <built-in method item of Tensor object at 0x7f2d09096390>\n",
            "epoch 230   w :  2.994994640350342  loss:  <built-in method item of Tensor object at 0x7f2d090e4ad0>\n",
            "epoch 240   w :  2.9951744079589844  loss:  <built-in method item of Tensor object at 0x7f2d24f78c50>\n",
            "epoch 250   w :  2.995347499847412  loss:  <built-in method item of Tensor object at 0x7f2d09096390>\n",
            "epoch 260   w :  2.9955146312713623  loss:  <built-in method item of Tensor object at 0x7f2d090e49b0>\n",
            "epoch 270   w :  2.995675563812256  loss:  <built-in method item of Tensor object at 0x7f2d24f78c50>\n",
            "epoch 280   w :  2.995830774307251  loss:  <built-in method item of Tensor object at 0x7f2d09096390>\n",
            "epoch 290   w :  2.9959805011749268  loss:  <built-in method item of Tensor object at 0x7f2d090e4ad0>\n",
            "epoch 300   w :  2.9961249828338623  loss:  <built-in method item of Tensor object at 0x7f2d24f78c50>\n",
            "epoch 310   w :  2.9962639808654785  loss:  <built-in method item of Tensor object at 0x7f2d09096390>\n",
            "epoch 320   w :  2.9963982105255127  loss:  <built-in method item of Tensor object at 0x7f2d090e49b0>\n",
            "epoch 330   w :  2.9965274333953857  loss:  <built-in method item of Tensor object at 0x7f2d24f78c50>\n",
            "epoch 340   w :  2.996652126312256  loss:  <built-in method item of Tensor object at 0x7f2d09096390>\n",
            "epoch 350   w :  2.996772289276123  loss:  <built-in method item of Tensor object at 0x7f2d090e4ad0>\n",
            "epoch 360   w :  2.9968881607055664  loss:  <built-in method item of Tensor object at 0x7f2d24f78c50>\n",
            "epoch 370   w :  2.996999740600586  loss:  <built-in method item of Tensor object at 0x7f2d09096390>\n",
            "epoch 380   w :  2.99710750579834  loss:  <built-in method item of Tensor object at 0x7f2d090e49b0>\n",
            "epoch 390   w :  2.997211456298828  loss:  <built-in method item of Tensor object at 0x7f2d24f78c50>\n",
            "epoch 400   w :  2.9973113536834717  loss:  <built-in method item of Tensor object at 0x7f2d09096390>\n",
            "epoch 410   w :  2.997407913208008  loss:  <built-in method item of Tensor object at 0x7f2d090e4ad0>\n",
            "epoch 420   w :  2.9975008964538574  loss:  <built-in method item of Tensor object at 0x7f2d24f78c50>\n",
            "epoch 430   w :  2.9975905418395996  loss:  <built-in method item of Tensor object at 0x7f2d09096390>\n",
            "epoch 440   w :  2.9976770877838135  loss:  <built-in method item of Tensor object at 0x7f2d090e49b0>\n",
            "epoch 450   w :  2.997760534286499  loss:  <built-in method item of Tensor object at 0x7f2d24f78c50>\n",
            "epoch 460   w :  2.9978408813476562  loss:  <built-in method item of Tensor object at 0x7f2d09096390>\n",
            "epoch 470   w :  2.9979183673858643  loss:  <built-in method item of Tensor object at 0x7f2d090e4ad0>\n",
            "epoch 480   w :  2.997992992401123  loss:  <built-in method item of Tensor object at 0x7f2d24f78c50>\n",
            "epoch 490   w :  2.998065233230591  loss:  <built-in method item of Tensor object at 0x7f2d09096390>\n",
            "epoch 500   w :  2.9981346130371094  loss:  <built-in method item of Tensor object at 0x7f2d090e49b0>\n",
            "epoch 510   w :  2.998201608657837  loss:  <built-in method item of Tensor object at 0x7f2d24f78c50>\n",
            "epoch 520   w :  2.9982662200927734  loss:  <built-in method item of Tensor object at 0x7f2d09096390>\n",
            "epoch 530   w :  2.998328447341919  loss:  <built-in method item of Tensor object at 0x7f2d090e4ad0>\n",
            "epoch 540   w :  2.9983882904052734  loss:  <built-in method item of Tensor object at 0x7f2d24f78c50>\n",
            "epoch 550   w :  2.998445987701416  loss:  <built-in method item of Tensor object at 0x7f2d09096390>\n",
            "epoch 560   w :  2.998501777648926  loss:  <built-in method item of Tensor object at 0x7f2d090e49b0>\n",
            "epoch 570   w :  2.9985556602478027  loss:  <built-in method item of Tensor object at 0x7f2d24f78c50>\n",
            "epoch 580   w :  2.9986073970794678  loss:  <built-in method item of Tensor object at 0x7f2d09096390>\n",
            "epoch 590   w :  2.998657703399658  loss:  <built-in method item of Tensor object at 0x7f2d090e4ad0>\n",
            "epoch 600   w :  2.9987056255340576  loss:  <built-in method item of Tensor object at 0x7f2d24f78c50>\n",
            "epoch 610   w :  2.9987521171569824  loss:  <built-in method item of Tensor object at 0x7f2d09096390>\n",
            "epoch 620   w :  2.9987969398498535  loss:  <built-in method item of Tensor object at 0x7f2d090e49b0>\n",
            "epoch 630   w :  2.998840093612671  loss:  <built-in method item of Tensor object at 0x7f2d24f78c50>\n",
            "epoch 640   w :  2.9988818168640137  loss:  <built-in method item of Tensor object at 0x7f2d09096390>\n",
            "epoch 650   w :  2.998922109603882  loss:  <built-in method item of Tensor object at 0x7f2d090e4ad0>\n",
            "epoch 660   w :  2.998960494995117  loss:  <built-in method item of Tensor object at 0x7f2d24f78c50>\n",
            "epoch 670   w :  2.998997926712036  loss:  <built-in method item of Tensor object at 0x7f2d09096390>\n",
            "epoch 680   w :  2.9990339279174805  loss:  <built-in method item of Tensor object at 0x7f2d090e49b0>\n",
            "epoch 690   w :  2.9990687370300293  loss:  <built-in method item of Tensor object at 0x7f2d24f78c50>\n",
            "epoch 700   w :  2.9991021156311035  loss:  <built-in method item of Tensor object at 0x7f2d09096390>\n",
            "epoch 710   w :  2.9991343021392822  loss:  <built-in method item of Tensor object at 0x7f2d090e4ad0>\n",
            "epoch 720   w :  2.9991652965545654  loss:  <built-in method item of Tensor object at 0x7f2d24f78c50>\n",
            "epoch 730   w :  2.999195098876953  loss:  <built-in method item of Tensor object at 0x7f2d09096390>\n",
            "epoch 740   w :  2.9992239475250244  loss:  <built-in method item of Tensor object at 0x7f2d090e49b0>\n",
            "epoch 750   w :  2.9992520809173584  loss:  <built-in method item of Tensor object at 0x7f2d24f78c50>\n",
            "epoch 760   w :  2.9992787837982178  loss:  <built-in method item of Tensor object at 0x7f2d09096390>\n",
            "epoch 770   w :  2.999305009841919  loss:  <built-in method item of Tensor object at 0x7f2d090e4ad0>\n",
            "epoch 780   w :  2.9993295669555664  loss:  <built-in method item of Tensor object at 0x7f2d24f78c50>\n",
            "epoch 790   w :  2.9993536472320557  loss:  <built-in method item of Tensor object at 0x7f2d09096390>\n",
            "epoch 800   w :  2.9993770122528076  loss:  <built-in method item of Tensor object at 0x7f2d090e49b0>\n",
            "epoch 810   w :  2.999399185180664  loss:  <built-in method item of Tensor object at 0x7f2d24f78c50>\n",
            "epoch 820   w :  2.9994208812713623  loss:  <built-in method item of Tensor object at 0x7f2d09096390>\n",
            "epoch 830   w :  2.999441623687744  loss:  <built-in method item of Tensor object at 0x7f2d090e4ad0>\n",
            "epoch 840   w :  2.9994616508483887  loss:  <built-in method item of Tensor object at 0x7f2d24f78c50>\n",
            "epoch 850   w :  2.999480962753296  loss:  <built-in method item of Tensor object at 0x7f2d09096390>\n",
            "epoch 860   w :  2.999499797821045  loss:  <built-in method item of Tensor object at 0x7f2d090e49b0>\n",
            "epoch 870   w :  2.9995176792144775  loss:  <built-in method item of Tensor object at 0x7f2d24f78c50>\n",
            "epoch 880   w :  2.999534845352173  loss:  <built-in method item of Tensor object at 0x7f2d09096390>\n",
            "epoch 890   w :  2.99955153465271  loss:  <built-in method item of Tensor object at 0x7f2d090e4ad0>\n",
            "epoch 900   w :  2.999567747116089  loss:  <built-in method item of Tensor object at 0x7f2d24f78c50>\n",
            "epoch 910   w :  2.9995832443237305  loss:  <built-in method item of Tensor object at 0x7f2d09096390>\n",
            "epoch 920   w :  2.9995980262756348  loss:  <built-in method item of Tensor object at 0x7f2d090e49b0>\n",
            "epoch 930   w :  2.999612331390381  loss:  <built-in method item of Tensor object at 0x7f2d24f78c50>\n",
            "epoch 940   w :  2.999626636505127  loss:  <built-in method item of Tensor object at 0x7f2d09096390>\n",
            "epoch 950   w :  2.9996399879455566  loss:  <built-in method item of Tensor object at 0x7f2d090e4ad0>\n",
            "epoch 960   w :  2.999652624130249  loss:  <built-in method item of Tensor object at 0x7f2d24f78c50>\n",
            "epoch 970   w :  2.9996652603149414  loss:  <built-in method item of Tensor object at 0x7f2d09096390>\n",
            "epoch 980   w :  2.9996771812438965  loss:  <built-in method item of Tensor object at 0x7f2d090e49b0>\n",
            "epoch 990   w :  2.9996891021728516  loss:  <built-in method item of Tensor object at 0x7f2d24f78c50>\n",
            "epoch 1000   w :  2.9997000694274902  loss:  <built-in method item of Tensor object at 0x7f2d09096390>\n"
          ]
        }
      ]
    },
    {
      "cell_type": "code",
      "source": [
        "print(f'Prediction after training: {x_test.item()} = {model(x_test).item():.3f}')"
      ],
      "metadata": {
        "colab": {
          "base_uri": "https://localhost:8080/"
        },
        "id": "7geoz15S23xt",
        "outputId": "37477de1-f084-4102-d72f-ad96a2cd22f6"
      },
      "execution_count": 59,
      "outputs": [
        {
          "output_type": "stream",
          "name": "stdout",
          "text": [
            "Prediction after training: 5.0 = 15.000\n"
          ]
        }
      ]
    },
    {
      "cell_type": "code",
      "source": [],
      "metadata": {
        "id": "Va7329Ug25nk"
      },
      "execution_count": null,
      "outputs": []
    }
  ]
}